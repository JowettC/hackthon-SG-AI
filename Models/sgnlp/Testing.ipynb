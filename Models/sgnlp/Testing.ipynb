{
 "cells": [
  {
   "cell_type": "code",
   "execution_count": 3,
   "id": "c586dce0",
   "metadata": {},
   "outputs": [],
   "source": [
    "# pip install sgnlp"
   ]
  },
  {
   "cell_type": "code",
   "execution_count": 1,
   "id": "28552c60",
   "metadata": {},
   "outputs": [],
   "source": [
    "import warnings\n",
    "warnings.filterwarnings(\"ignore\")"
   ]
  },
  {
   "cell_type": "markdown",
   "id": "a1a55581",
   "metadata": {},
   "source": [
    "# Sentic-GCN: Aspect-Based Sentiment Analysis via Affective Knowledge Enhanced Graph Convolutional Networks"
   ]
  },
  {
   "cell_type": "code",
   "execution_count": 2,
   "id": "23599727",
   "metadata": {},
   "outputs": [
    {
     "name": "stdout",
     "output_type": "stream",
     "text": [
      "✔ Download and installation successful\n",
      "You can now load the package via spacy.load('en_core_web_sm')\n"
     ]
    }
   ],
   "source": [
    "from sgnlp.models.sentic_gcn import(\n",
    "    SenticGCNBertConfig,\n",
    "    SenticGCNBertModel,\n",
    "    SenticGCNBertEmbeddingConfig,\n",
    "    SenticGCNBertEmbeddingModel,\n",
    "    SenticGCNBertTokenizer,\n",
    "    SenticGCNBertPreprocessor,\n",
    "    SenticGCNBertPostprocessor\n",
    ")"
   ]
  },
  {
   "cell_type": "code",
   "execution_count": 3,
   "id": "1bc58df2",
   "metadata": {},
   "outputs": [
    {
     "data": {
      "application/vnd.jupyter.widget-view+json": {
       "model_id": "c41d6af2351e4b0cb63248dc8c189fdb",
       "version_major": 2,
       "version_minor": 0
      },
      "text/plain": [
       "Downloading (…)solve/main/vocab.txt:   0%|          | 0.00/232k [00:00<?, ?B/s]"
      ]
     },
     "metadata": {},
     "output_type": "display_data"
    },
    {
     "data": {
      "application/vnd.jupyter.widget-view+json": {
       "model_id": "aa31b142633945bfa7e42dce1d286f93",
       "version_major": 2,
       "version_minor": 0
      },
      "text/plain": [
       "Downloading (…)okenizer_config.json:   0%|          | 0.00/28.0 [00:00<?, ?B/s]"
      ]
     },
     "metadata": {},
     "output_type": "display_data"
    },
    {
     "data": {
      "application/vnd.jupyter.widget-view+json": {
       "model_id": "80eb4653c0a74cfea628f40b2220267b",
       "version_major": 2,
       "version_minor": 0
      },
      "text/plain": [
       "Downloading (…)lve/main/config.json:   0%|          | 0.00/570 [00:00<?, ?B/s]"
      ]
     },
     "metadata": {},
     "output_type": "display_data"
    },
    {
     "name": "stderr",
     "output_type": "stream",
     "text": [
      "The tokenizer class you load from this checkpoint is not the same type as the class this function is called from. It may result in unexpected tokenization. \n",
      "The tokenizer class you load from this checkpoint is 'BertTokenizer'. \n",
      "The class this function is called from is 'SenticGCNBertTokenizer'.\n"
     ]
    },
    {
     "data": {
      "application/vnd.jupyter.widget-view+json": {
       "model_id": "c93dd665d88747f788d24dd1d8e15c4f",
       "version_major": 2,
       "version_minor": 0
      },
      "text/plain": [
       "Downloading (…)gcn_bert/config.json:   0%|          | 0.00/343 [00:00<?, ?B/s]"
      ]
     },
     "metadata": {},
     "output_type": "display_data"
    },
    {
     "data": {
      "application/vnd.jupyter.widget-view+json": {
       "model_id": "c585c83f6fc341a9a5fb07a3029f0302",
       "version_major": 2,
       "version_minor": 0
      },
      "text/plain": [
       "Downloading (…)rt/pytorch_model.bin:   0%|          | 0.00/7.10M [00:00<?, ?B/s]"
      ]
     },
     "metadata": {},
     "output_type": "display_data"
    },
    {
     "data": {
      "application/vnd.jupyter.widget-view+json": {
       "model_id": "4ac2dfd898054c1eb447b25c94a8a500",
       "version_major": 2,
       "version_minor": 0
      },
      "text/plain": [
       "Downloading (…)\"pytorch_model.bin\";:   0%|          | 0.00/440M [00:00<?, ?B/s]"
      ]
     },
     "metadata": {},
     "output_type": "display_data"
    },
    {
     "name": "stderr",
     "output_type": "stream",
     "text": [
      "Some weights of the model checkpoint at bert-base-uncased were not used when initializing SenticGCNBertEmbeddingModel: ['cls.seq_relationship.bias', 'cls.predictions.bias', 'cls.seq_relationship.weight', 'cls.predictions.decoder.weight', 'cls.predictions.transform.dense.bias', 'cls.predictions.transform.LayerNorm.weight', 'cls.predictions.transform.LayerNorm.bias', 'cls.predictions.transform.dense.weight']\n",
      "- This IS expected if you are initializing SenticGCNBertEmbeddingModel from the checkpoint of a model trained on another task or with another architecture (e.g. initializing a BertForSequenceClassification model from a BertForPreTraining model).\n",
      "- This IS NOT expected if you are initializing SenticGCNBertEmbeddingModel from the checkpoint of a model that you expect to be exactly identical (initializing a BertForSequenceClassification model from a BertForSequenceClassification model).\n"
     ]
    }
   ],
   "source": [
    "tokenizer = SenticGCNBertTokenizer.from_pretrained(\"bert-base-uncased\")\n",
    "\n",
    "config = SenticGCNBertConfig.from_pretrained(\n",
    "    \"https://storage.googleapis.com/sgnlp/models/sentic_gcn/senticgcn_bert/config.json\"\n",
    ")\n",
    "\n",
    "model = SenticGCNBertModel.from_pretrained(\n",
    "    \"https://storage.googleapis.com/sgnlp/models/sentic_gcn/senticgcn_bert/pytorch_model.bin\",\n",
    "    config=config\n",
    ")\n",
    "\n",
    "embed_config = SenticGCNBertEmbeddingConfig.from_pretrained(\"bert-base-uncased\")\n",
    "\n",
    "embed_model = SenticGCNBertEmbeddingModel.from_pretrained(\"bert-base-uncased\",\n",
    "    config=embed_config\n",
    ")\n",
    "\n",
    "preprocessor = SenticGCNBertPreprocessor(\n",
    "    tokenizer=tokenizer, embedding_model=embed_model,\n",
    "    senticnet=\"https://storage.googleapis.com/sgnlp/models/sentic_gcn/senticnet.pickle\",\n",
    "    device=\"cpu\")\n"
   ]
  },
  {
   "cell_type": "code",
   "execution_count": 14,
   "id": "56ea095a",
   "metadata": {},
   "outputs": [],
   "source": [
    "postprocessor = SenticGCNBertPostprocessor()\n",
    "# Aspect must be inside the sentence\n",
    "inputs = [\n",
    "    {  # Single word aspect\n",
    "        \"aspects\": [\"Service\"],\n",
    "        \"sentence\": \"Service was average\",\n",
    "    }\n",
    "]\n",
    "processed_inputs, processed_indices = preprocessor(inputs)\n",
    "raw_outputs = model(processed_indices)\n",
    "post_outputs = postprocessor(processed_inputs=processed_inputs, model_outputs=raw_outputs)"
   ]
  },
  {
   "cell_type": "code",
   "execution_count": 15,
   "id": "98cc68e7",
   "metadata": {},
   "outputs": [
    {
     "data": {
      "text/plain": [
       "[1]"
      ]
     },
     "execution_count": 15,
     "metadata": {},
     "output_type": "execute_result"
    }
   ],
   "source": [
    "post_outputs[0]['labels']\n",
    "#predicted positive"
   ]
  },
  {
   "cell_type": "markdown",
   "id": "6d861b6f",
   "metadata": {},
   "source": [
    "Here I try to use two word aspect."
   ]
  },
  {
   "cell_type": "code",
   "execution_count": 19,
   "id": "703b4670",
   "metadata": {},
   "outputs": [],
   "source": [
    "inputs = [\n",
    "    {  # Two word aspect\n",
    "        \"aspects\": [\"service\",'Food'],\n",
    "        \"sentence\": \"Service is very bad. Food is very bad. I will never come back again!\",\n",
    "    }\n",
    "]\n",
    "processed_inputs, processed_indices = preprocessor(inputs)\n",
    "raw_outputs = model(processed_indices)\n",
    "post_outputs = postprocessor(processed_inputs=processed_inputs, model_outputs=raw_outputs)"
   ]
  },
  {
   "cell_type": "code",
   "execution_count": 20,
   "id": "320171c8",
   "metadata": {},
   "outputs": [
    {
     "data": {
      "text/plain": [
       "[-1, -1]"
      ]
     },
     "execution_count": 20,
     "metadata": {},
     "output_type": "execute_result"
    }
   ],
   "source": [
    "post_outputs[0]['labels']\n",
    "#predicted negative.\n",
    "# Negative for service, Negative for food."
   ]
  },
  {
   "cell_type": "markdown",
   "id": "c2c8a97c",
   "metadata": {},
   "source": [
    "# UFD: Unsupervised Domain Adaptation of a Pretrained Cross-Lingual Language Model"
   ]
  },
  {
   "cell_type": "code",
   "execution_count": 9,
   "id": "66f515d6",
   "metadata": {},
   "outputs": [],
   "source": [
    "from sgnlp.models.ufd import (\n",
    "   UFDModelBuilder,\n",
    "   UFDPreprocessor)\n",
    "import torch\n",
    "import torch.nn.functional as F"
   ]
  },
  {
   "cell_type": "markdown",
   "id": "cdc93400",
   "metadata": {},
   "source": [
    "By default, UFDModelBuilder will include all available pretrained models, to target only specific model set, simply define the source_domains, target_languages and target_domains input arguments. The following shows an example for a single model set for the books source domains, German target language and dvd target domain."
   ]
  },
  {
   "cell_type": "code",
   "execution_count": 24,
   "id": "d9e75937",
   "metadata": {},
   "outputs": [
    {
     "name": "stderr",
     "output_type": "stream",
     "text": [
      "DEBUG:urllib3.connectionpool:Starting new HTTPS connection (1): huggingface.co:443\n",
      "DEBUG:urllib3.connectionpool:https://huggingface.co:443 \"HEAD /xlm-roberta-large/resolve/main/sentencepiece.bpe.model HTTP/1.1\" 200 0\n",
      "DEBUG:urllib3.connectionpool:Starting new HTTPS connection (1): huggingface.co:443\n",
      "DEBUG:urllib3.connectionpool:Starting new HTTPS connection (1): huggingface.co:443\n",
      "DEBUG:urllib3.connectionpool:https://huggingface.co:443 \"HEAD /xlm-roberta-large/resolve/main/special_tokens_map.json HTTP/1.1\" 404 0\n",
      "DEBUG:urllib3.connectionpool:Starting new HTTPS connection (1): huggingface.co:443\n",
      "DEBUG:urllib3.connectionpool:Starting new HTTPS connection (1): huggingface.co:443\n",
      "The tokenizer class you load from this checkpoint is not the same type as the class this function is called from. It may result in unexpected tokenization. \n",
      "The tokenizer class you load from this checkpoint is 'XLMRobertaTokenizer'. \n",
      "The class this function is called from is 'UFDTokenizer'.\n",
      "DEBUG:urllib3.connectionpool:Starting new HTTPS connection (1): huggingface.co:443\n",
      "DEBUG:urllib3.connectionpool:Starting new HTTPS connection (1): huggingface.co:443\n",
      "Some weights of the model checkpoint at xlm-roberta-large were not used when initializing UFDEmbeddingModel: ['lm_head.dense.bias', 'lm_head.layer_norm.weight', 'lm_head.decoder.weight', 'lm_head.bias', 'lm_head.dense.weight', 'lm_head.layer_norm.bias']\n",
      "- This IS expected if you are initializing UFDEmbeddingModel from the checkpoint of a model trained on another task or with another architecture (e.g. initializing a BertForSequenceClassification model from a BertForPreTraining model).\n",
      "- This IS NOT expected if you are initializing UFDEmbeddingModel from the checkpoint of a model that you expect to be exactly identical (initializing a BertForSequenceClassification model from a BertForSequenceClassification model).\n",
      "DEBUG:urllib3.connectionpool:Starting new HTTPS connection (1): storage.googleapis.com:443\n",
      "DEBUG:urllib3.connectionpool:https://storage.googleapis.com:443 \"HEAD /sgnlp/models/ufd/books_de_music_adaptor_domain/config.json HTTP/1.1\" 200 0\n",
      "DEBUG:urllib3.connectionpool:Starting new HTTPS connection (1): storage.googleapis.com:443\n",
      "DEBUG:urllib3.connectionpool:https://storage.googleapis.com:443 \"HEAD /sgnlp/models/ufd/books_de_music_adaptor_domain/pytorch_model.bin HTTP/1.1\" 200 0\n",
      "DEBUG:urllib3.connectionpool:Starting new HTTPS connection (1): storage.googleapis.com:443\n",
      "DEBUG:urllib3.connectionpool:https://storage.googleapis.com:443 \"HEAD /sgnlp/models/ufd/books_de_music_adaptor_global/config.json HTTP/1.1\" 200 0\n",
      "DEBUG:urllib3.connectionpool:Starting new HTTPS connection (1): storage.googleapis.com:443\n",
      "DEBUG:urllib3.connectionpool:https://storage.googleapis.com:443 \"HEAD /sgnlp/models/ufd/books_de_music_adaptor_global/pytorch_model.bin HTTP/1.1\" 200 0\n",
      "DEBUG:urllib3.connectionpool:Starting new HTTPS connection (1): storage.googleapis.com:443\n",
      "DEBUG:urllib3.connectionpool:https://storage.googleapis.com:443 \"HEAD /sgnlp/models/ufd/books_de_music_maper/config.json HTTP/1.1\" 200 0\n",
      "DEBUG:urllib3.connectionpool:Starting new HTTPS connection (1): storage.googleapis.com:443\n",
      "DEBUG:urllib3.connectionpool:https://storage.googleapis.com:443 \"HEAD /sgnlp/models/ufd/books_de_music_maper/pytorch_model.bin HTTP/1.1\" 200 0\n",
      "DEBUG:urllib3.connectionpool:Starting new HTTPS connection (1): storage.googleapis.com:443\n",
      "DEBUG:urllib3.connectionpool:https://storage.googleapis.com:443 \"HEAD /sgnlp/models/ufd/books_de_music_classifier/config.json HTTP/1.1\" 200 0\n",
      "DEBUG:urllib3.connectionpool:Starting new HTTPS connection (1): storage.googleapis.com:443\n",
      "DEBUG:urllib3.connectionpool:https://storage.googleapis.com:443 \"HEAD /sgnlp/models/ufd/books_de_music_classifier/pytorch_model.bin HTTP/1.1\" 200 0\n",
      "DEBUG:urllib3.connectionpool:Starting new HTTPS connection (1): storage.googleapis.com:443\n",
      "DEBUG:urllib3.connectionpool:https://storage.googleapis.com:443 \"HEAD /sgnlp/models/ufd/books_de_dvd_adaptor_domain/config.json HTTP/1.1\" 200 0\n",
      "DEBUG:urllib3.connectionpool:Starting new HTTPS connection (1): storage.googleapis.com:443\n",
      "DEBUG:urllib3.connectionpool:https://storage.googleapis.com:443 \"HEAD /sgnlp/models/ufd/books_de_dvd_adaptor_domain/pytorch_model.bin HTTP/1.1\" 200 0\n",
      "DEBUG:urllib3.connectionpool:Starting new HTTPS connection (1): storage.googleapis.com:443\n",
      "DEBUG:urllib3.connectionpool:https://storage.googleapis.com:443 \"HEAD /sgnlp/models/ufd/books_de_dvd_adaptor_global/config.json HTTP/1.1\" 200 0\n",
      "DEBUG:urllib3.connectionpool:Starting new HTTPS connection (1): storage.googleapis.com:443\n",
      "DEBUG:urllib3.connectionpool:https://storage.googleapis.com:443 \"HEAD /sgnlp/models/ufd/books_de_dvd_adaptor_global/pytorch_model.bin HTTP/1.1\" 200 0\n",
      "DEBUG:urllib3.connectionpool:Starting new HTTPS connection (1): storage.googleapis.com:443\n",
      "DEBUG:urllib3.connectionpool:https://storage.googleapis.com:443 \"HEAD /sgnlp/models/ufd/books_de_dvd_maper/config.json HTTP/1.1\" 200 0\n",
      "DEBUG:urllib3.connectionpool:Starting new HTTPS connection (1): storage.googleapis.com:443\n",
      "DEBUG:urllib3.connectionpool:https://storage.googleapis.com:443 \"HEAD /sgnlp/models/ufd/books_de_dvd_maper/pytorch_model.bin HTTP/1.1\" 200 0\n",
      "DEBUG:urllib3.connectionpool:Starting new HTTPS connection (1): storage.googleapis.com:443\n",
      "DEBUG:urllib3.connectionpool:https://storage.googleapis.com:443 \"HEAD /sgnlp/models/ufd/books_de_dvd_classifier/config.json HTTP/1.1\" 200 0\n",
      "DEBUG:urllib3.connectionpool:Starting new HTTPS connection (1): storage.googleapis.com:443\n",
      "DEBUG:urllib3.connectionpool:https://storage.googleapis.com:443 \"HEAD /sgnlp/models/ufd/books_de_dvd_classifier/pytorch_model.bin HTTP/1.1\" 200 0\n",
      "DEBUG:urllib3.connectionpool:Starting new HTTPS connection (1): storage.googleapis.com:443\n",
      "DEBUG:urllib3.connectionpool:https://storage.googleapis.com:443 \"HEAD /sgnlp/models/ufd/books_jp_music_adaptor_domain/config.json HTTP/1.1\" 200 0\n",
      "DEBUG:urllib3.connectionpool:Starting new HTTPS connection (1): storage.googleapis.com:443\n",
      "DEBUG:urllib3.connectionpool:https://storage.googleapis.com:443 \"HEAD /sgnlp/models/ufd/books_jp_music_adaptor_domain/pytorch_model.bin HTTP/1.1\" 200 0\n",
      "DEBUG:urllib3.connectionpool:Starting new HTTPS connection (1): storage.googleapis.com:443\n",
      "DEBUG:urllib3.connectionpool:https://storage.googleapis.com:443 \"HEAD /sgnlp/models/ufd/books_jp_music_adaptor_global/config.json HTTP/1.1\" 200 0\n",
      "DEBUG:urllib3.connectionpool:Starting new HTTPS connection (1): storage.googleapis.com:443\n",
      "DEBUG:urllib3.connectionpool:https://storage.googleapis.com:443 \"HEAD /sgnlp/models/ufd/books_jp_music_adaptor_global/pytorch_model.bin HTTP/1.1\" 200 0\n",
      "DEBUG:urllib3.connectionpool:Starting new HTTPS connection (1): storage.googleapis.com:443\n",
      "DEBUG:urllib3.connectionpool:https://storage.googleapis.com:443 \"HEAD /sgnlp/models/ufd/books_jp_music_maper/config.json HTTP/1.1\" 200 0\n",
      "DEBUG:urllib3.connectionpool:Starting new HTTPS connection (1): storage.googleapis.com:443\n",
      "DEBUG:urllib3.connectionpool:https://storage.googleapis.com:443 \"HEAD /sgnlp/models/ufd/books_jp_music_maper/pytorch_model.bin HTTP/1.1\" 200 0\n",
      "DEBUG:urllib3.connectionpool:Starting new HTTPS connection (1): storage.googleapis.com:443\n",
      "DEBUG:urllib3.connectionpool:https://storage.googleapis.com:443 \"HEAD /sgnlp/models/ufd/books_jp_music_classifier/config.json HTTP/1.1\" 200 0\n",
      "DEBUG:urllib3.connectionpool:Starting new HTTPS connection (1): storage.googleapis.com:443\n",
      "DEBUG:urllib3.connectionpool:https://storage.googleapis.com:443 \"HEAD /sgnlp/models/ufd/books_jp_music_classifier/pytorch_model.bin HTTP/1.1\" 200 0\n",
      "DEBUG:urllib3.connectionpool:Starting new HTTPS connection (1): storage.googleapis.com:443\n",
      "DEBUG:urllib3.connectionpool:https://storage.googleapis.com:443 \"HEAD /sgnlp/models/ufd/books_jp_dvd_adaptor_domain/config.json HTTP/1.1\" 200 0\n",
      "DEBUG:urllib3.connectionpool:Starting new HTTPS connection (1): storage.googleapis.com:443\n",
      "DEBUG:urllib3.connectionpool:https://storage.googleapis.com:443 \"HEAD /sgnlp/models/ufd/books_jp_dvd_adaptor_domain/pytorch_model.bin HTTP/1.1\" 200 0\n",
      "DEBUG:urllib3.connectionpool:Starting new HTTPS connection (1): storage.googleapis.com:443\n",
      "DEBUG:urllib3.connectionpool:https://storage.googleapis.com:443 \"HEAD /sgnlp/models/ufd/books_jp_dvd_adaptor_global/config.json HTTP/1.1\" 200 0\n",
      "DEBUG:urllib3.connectionpool:Starting new HTTPS connection (1): storage.googleapis.com:443\n",
      "DEBUG:urllib3.connectionpool:https://storage.googleapis.com:443 \"HEAD /sgnlp/models/ufd/books_jp_dvd_adaptor_global/pytorch_model.bin HTTP/1.1\" 200 0\n",
      "DEBUG:urllib3.connectionpool:Starting new HTTPS connection (1): storage.googleapis.com:443\n",
      "DEBUG:urllib3.connectionpool:https://storage.googleapis.com:443 \"HEAD /sgnlp/models/ufd/books_jp_dvd_maper/config.json HTTP/1.1\" 200 0\n",
      "DEBUG:urllib3.connectionpool:Starting new HTTPS connection (1): storage.googleapis.com:443\n",
      "DEBUG:urllib3.connectionpool:https://storage.googleapis.com:443 \"HEAD /sgnlp/models/ufd/books_jp_dvd_maper/pytorch_model.bin HTTP/1.1\" 200 0\n",
      "DEBUG:urllib3.connectionpool:Starting new HTTPS connection (1): storage.googleapis.com:443\n",
      "DEBUG:urllib3.connectionpool:https://storage.googleapis.com:443 \"HEAD /sgnlp/models/ufd/books_jp_dvd_classifier/config.json HTTP/1.1\" 200 0\n",
      "DEBUG:urllib3.connectionpool:Starting new HTTPS connection (1): storage.googleapis.com:443\n",
      "DEBUG:urllib3.connectionpool:https://storage.googleapis.com:443 \"HEAD /sgnlp/models/ufd/books_jp_dvd_classifier/pytorch_model.bin HTTP/1.1\" 200 0\n",
      "DEBUG:urllib3.connectionpool:Starting new HTTPS connection (1): storage.googleapis.com:443\n",
      "DEBUG:urllib3.connectionpool:https://storage.googleapis.com:443 \"HEAD /sgnlp/models/ufd/books_fr_music_adaptor_domain/config.json HTTP/1.1\" 200 0\n",
      "DEBUG:urllib3.connectionpool:Starting new HTTPS connection (1): storage.googleapis.com:443\n",
      "DEBUG:urllib3.connectionpool:https://storage.googleapis.com:443 \"HEAD /sgnlp/models/ufd/books_fr_music_adaptor_domain/pytorch_model.bin HTTP/1.1\" 200 0\n",
      "DEBUG:urllib3.connectionpool:Starting new HTTPS connection (1): storage.googleapis.com:443\n",
      "DEBUG:urllib3.connectionpool:https://storage.googleapis.com:443 \"HEAD /sgnlp/models/ufd/books_fr_music_adaptor_global/config.json HTTP/1.1\" 200 0\n",
      "DEBUG:urllib3.connectionpool:Starting new HTTPS connection (1): storage.googleapis.com:443\n",
      "DEBUG:urllib3.connectionpool:https://storage.googleapis.com:443 \"HEAD /sgnlp/models/ufd/books_fr_music_adaptor_global/pytorch_model.bin HTTP/1.1\" 200 0\n",
      "DEBUG:urllib3.connectionpool:Starting new HTTPS connection (1): storage.googleapis.com:443\n",
      "DEBUG:urllib3.connectionpool:https://storage.googleapis.com:443 \"HEAD /sgnlp/models/ufd/books_fr_music_maper/config.json HTTP/1.1\" 200 0\n",
      "DEBUG:urllib3.connectionpool:Starting new HTTPS connection (1): storage.googleapis.com:443\n",
      "DEBUG:urllib3.connectionpool:https://storage.googleapis.com:443 \"HEAD /sgnlp/models/ufd/books_fr_music_maper/pytorch_model.bin HTTP/1.1\" 200 0\n",
      "DEBUG:urllib3.connectionpool:Starting new HTTPS connection (1): storage.googleapis.com:443\n",
      "DEBUG:urllib3.connectionpool:https://storage.googleapis.com:443 \"HEAD /sgnlp/models/ufd/books_fr_music_classifier/config.json HTTP/1.1\" 200 0\n",
      "DEBUG:urllib3.connectionpool:Starting new HTTPS connection (1): storage.googleapis.com:443\n",
      "DEBUG:urllib3.connectionpool:https://storage.googleapis.com:443 \"HEAD /sgnlp/models/ufd/books_fr_music_classifier/pytorch_model.bin HTTP/1.1\" 200 0\n",
      "DEBUG:urllib3.connectionpool:Starting new HTTPS connection (1): storage.googleapis.com:443\n",
      "DEBUG:urllib3.connectionpool:https://storage.googleapis.com:443 \"HEAD /sgnlp/models/ufd/books_fr_dvd_adaptor_domain/config.json HTTP/1.1\" 200 0\n",
      "DEBUG:urllib3.connectionpool:Starting new HTTPS connection (1): storage.googleapis.com:443\n",
      "DEBUG:urllib3.connectionpool:https://storage.googleapis.com:443 \"HEAD /sgnlp/models/ufd/books_fr_dvd_adaptor_domain/pytorch_model.bin HTTP/1.1\" 200 0\n",
      "DEBUG:urllib3.connectionpool:Starting new HTTPS connection (1): storage.googleapis.com:443\n",
      "DEBUG:urllib3.connectionpool:https://storage.googleapis.com:443 \"HEAD /sgnlp/models/ufd/books_fr_dvd_adaptor_global/config.json HTTP/1.1\" 200 0\n",
      "DEBUG:urllib3.connectionpool:Starting new HTTPS connection (1): storage.googleapis.com:443\n",
      "DEBUG:urllib3.connectionpool:https://storage.googleapis.com:443 \"HEAD /sgnlp/models/ufd/books_fr_dvd_adaptor_global/pytorch_model.bin HTTP/1.1\" 200 0\n",
      "DEBUG:urllib3.connectionpool:Starting new HTTPS connection (1): storage.googleapis.com:443\n",
      "DEBUG:urllib3.connectionpool:https://storage.googleapis.com:443 \"HEAD /sgnlp/models/ufd/books_fr_dvd_maper/config.json HTTP/1.1\" 200 0\n",
      "DEBUG:urllib3.connectionpool:Starting new HTTPS connection (1): storage.googleapis.com:443\n",
      "DEBUG:urllib3.connectionpool:https://storage.googleapis.com:443 \"HEAD /sgnlp/models/ufd/books_fr_dvd_maper/pytorch_model.bin HTTP/1.1\" 200 0\n",
      "DEBUG:urllib3.connectionpool:Starting new HTTPS connection (1): storage.googleapis.com:443\n",
      "DEBUG:urllib3.connectionpool:https://storage.googleapis.com:443 \"HEAD /sgnlp/models/ufd/books_fr_dvd_classifier/config.json HTTP/1.1\" 200 0\n",
      "DEBUG:urllib3.connectionpool:Starting new HTTPS connection (1): storage.googleapis.com:443\n",
      "DEBUG:urllib3.connectionpool:https://storage.googleapis.com:443 \"HEAD /sgnlp/models/ufd/books_fr_dvd_classifier/pytorch_model.bin HTTP/1.1\" 200 0\n",
      "DEBUG:urllib3.connectionpool:Starting new HTTPS connection (1): storage.googleapis.com:443\n",
      "DEBUG:urllib3.connectionpool:https://storage.googleapis.com:443 \"HEAD /sgnlp/models/ufd/music_de_books_adaptor_domain/config.json HTTP/1.1\" 200 0\n",
      "DEBUG:urllib3.connectionpool:Starting new HTTPS connection (1): storage.googleapis.com:443\n",
      "DEBUG:urllib3.connectionpool:https://storage.googleapis.com:443 \"HEAD /sgnlp/models/ufd/music_de_books_adaptor_domain/pytorch_model.bin HTTP/1.1\" 200 0\n",
      "DEBUG:urllib3.connectionpool:Starting new HTTPS connection (1): storage.googleapis.com:443\n",
      "DEBUG:urllib3.connectionpool:https://storage.googleapis.com:443 \"HEAD /sgnlp/models/ufd/music_de_books_adaptor_global/config.json HTTP/1.1\" 200 0\n",
      "DEBUG:urllib3.connectionpool:Starting new HTTPS connection (1): storage.googleapis.com:443\n",
      "DEBUG:urllib3.connectionpool:https://storage.googleapis.com:443 \"HEAD /sgnlp/models/ufd/music_de_books_adaptor_global/pytorch_model.bin HTTP/1.1\" 200 0\n",
      "DEBUG:urllib3.connectionpool:Starting new HTTPS connection (1): storage.googleapis.com:443\n",
      "DEBUG:urllib3.connectionpool:https://storage.googleapis.com:443 \"HEAD /sgnlp/models/ufd/music_de_books_maper/config.json HTTP/1.1\" 200 0\n",
      "DEBUG:urllib3.connectionpool:Starting new HTTPS connection (1): storage.googleapis.com:443\n",
      "DEBUG:urllib3.connectionpool:https://storage.googleapis.com:443 \"HEAD /sgnlp/models/ufd/music_de_books_maper/pytorch_model.bin HTTP/1.1\" 200 0\n",
      "DEBUG:urllib3.connectionpool:Starting new HTTPS connection (1): storage.googleapis.com:443\n",
      "DEBUG:urllib3.connectionpool:https://storage.googleapis.com:443 \"HEAD /sgnlp/models/ufd/music_de_books_classifier/config.json HTTP/1.1\" 200 0\n",
      "DEBUG:urllib3.connectionpool:Starting new HTTPS connection (1): storage.googleapis.com:443\n",
      "DEBUG:urllib3.connectionpool:https://storage.googleapis.com:443 \"HEAD /sgnlp/models/ufd/music_de_books_classifier/pytorch_model.bin HTTP/1.1\" 200 0\n",
      "DEBUG:urllib3.connectionpool:Starting new HTTPS connection (1): storage.googleapis.com:443\n",
      "DEBUG:urllib3.connectionpool:https://storage.googleapis.com:443 \"HEAD /sgnlp/models/ufd/music_de_dvd_adaptor_domain/config.json HTTP/1.1\" 200 0\n",
      "DEBUG:urllib3.connectionpool:Starting new HTTPS connection (1): storage.googleapis.com:443\n",
      "DEBUG:urllib3.connectionpool:https://storage.googleapis.com:443 \"HEAD /sgnlp/models/ufd/music_de_dvd_adaptor_domain/pytorch_model.bin HTTP/1.1\" 200 0\n",
      "DEBUG:urllib3.connectionpool:Starting new HTTPS connection (1): storage.googleapis.com:443\n",
      "DEBUG:urllib3.connectionpool:https://storage.googleapis.com:443 \"HEAD /sgnlp/models/ufd/music_de_dvd_adaptor_global/config.json HTTP/1.1\" 200 0\n",
      "DEBUG:urllib3.connectionpool:Starting new HTTPS connection (1): storage.googleapis.com:443\n",
      "DEBUG:urllib3.connectionpool:https://storage.googleapis.com:443 \"HEAD /sgnlp/models/ufd/music_de_dvd_adaptor_global/pytorch_model.bin HTTP/1.1\" 200 0\n",
      "DEBUG:urllib3.connectionpool:Starting new HTTPS connection (1): storage.googleapis.com:443\n",
      "DEBUG:urllib3.connectionpool:https://storage.googleapis.com:443 \"HEAD /sgnlp/models/ufd/music_de_dvd_maper/config.json HTTP/1.1\" 200 0\n",
      "DEBUG:urllib3.connectionpool:Starting new HTTPS connection (1): storage.googleapis.com:443\n",
      "DEBUG:urllib3.connectionpool:https://storage.googleapis.com:443 \"HEAD /sgnlp/models/ufd/music_de_dvd_maper/pytorch_model.bin HTTP/1.1\" 200 0\n",
      "DEBUG:urllib3.connectionpool:Starting new HTTPS connection (1): storage.googleapis.com:443\n",
      "DEBUG:urllib3.connectionpool:https://storage.googleapis.com:443 \"HEAD /sgnlp/models/ufd/music_de_dvd_classifier/config.json HTTP/1.1\" 200 0\n",
      "DEBUG:urllib3.connectionpool:Starting new HTTPS connection (1): storage.googleapis.com:443\n",
      "DEBUG:urllib3.connectionpool:https://storage.googleapis.com:443 \"HEAD /sgnlp/models/ufd/music_de_dvd_classifier/pytorch_model.bin HTTP/1.1\" 200 0\n",
      "DEBUG:urllib3.connectionpool:Starting new HTTPS connection (1): storage.googleapis.com:443\n",
      "DEBUG:urllib3.connectionpool:https://storage.googleapis.com:443 \"HEAD /sgnlp/models/ufd/music_jp_books_adaptor_domain/config.json HTTP/1.1\" 200 0\n",
      "DEBUG:urllib3.connectionpool:Starting new HTTPS connection (1): storage.googleapis.com:443\n",
      "DEBUG:urllib3.connectionpool:https://storage.googleapis.com:443 \"HEAD /sgnlp/models/ufd/music_jp_books_adaptor_domain/pytorch_model.bin HTTP/1.1\" 200 0\n",
      "DEBUG:urllib3.connectionpool:Starting new HTTPS connection (1): storage.googleapis.com:443\n",
      "DEBUG:urllib3.connectionpool:https://storage.googleapis.com:443 \"HEAD /sgnlp/models/ufd/music_jp_books_adaptor_global/config.json HTTP/1.1\" 200 0\n",
      "DEBUG:urllib3.connectionpool:Starting new HTTPS connection (1): storage.googleapis.com:443\n",
      "DEBUG:urllib3.connectionpool:https://storage.googleapis.com:443 \"HEAD /sgnlp/models/ufd/music_jp_books_adaptor_global/pytorch_model.bin HTTP/1.1\" 200 0\n",
      "DEBUG:urllib3.connectionpool:Starting new HTTPS connection (1): storage.googleapis.com:443\n",
      "DEBUG:urllib3.connectionpool:https://storage.googleapis.com:443 \"HEAD /sgnlp/models/ufd/music_jp_books_maper/config.json HTTP/1.1\" 200 0\n",
      "DEBUG:urllib3.connectionpool:Starting new HTTPS connection (1): storage.googleapis.com:443\n",
      "DEBUG:urllib3.connectionpool:https://storage.googleapis.com:443 \"HEAD /sgnlp/models/ufd/music_jp_books_maper/pytorch_model.bin HTTP/1.1\" 200 0\n",
      "DEBUG:urllib3.connectionpool:Starting new HTTPS connection (1): storage.googleapis.com:443\n",
      "DEBUG:urllib3.connectionpool:https://storage.googleapis.com:443 \"HEAD /sgnlp/models/ufd/music_jp_books_classifier/config.json HTTP/1.1\" 200 0\n",
      "DEBUG:urllib3.connectionpool:Starting new HTTPS connection (1): storage.googleapis.com:443\n",
      "DEBUG:urllib3.connectionpool:https://storage.googleapis.com:443 \"HEAD /sgnlp/models/ufd/music_jp_books_classifier/pytorch_model.bin HTTP/1.1\" 200 0\n",
      "DEBUG:urllib3.connectionpool:Starting new HTTPS connection (1): storage.googleapis.com:443\n",
      "DEBUG:urllib3.connectionpool:https://storage.googleapis.com:443 \"HEAD /sgnlp/models/ufd/music_jp_dvd_adaptor_domain/config.json HTTP/1.1\" 200 0\n",
      "DEBUG:urllib3.connectionpool:Starting new HTTPS connection (1): storage.googleapis.com:443\n",
      "DEBUG:urllib3.connectionpool:https://storage.googleapis.com:443 \"HEAD /sgnlp/models/ufd/music_jp_dvd_adaptor_domain/pytorch_model.bin HTTP/1.1\" 200 0\n",
      "DEBUG:urllib3.connectionpool:Starting new HTTPS connection (1): storage.googleapis.com:443\n",
      "DEBUG:urllib3.connectionpool:https://storage.googleapis.com:443 \"HEAD /sgnlp/models/ufd/music_jp_dvd_adaptor_global/config.json HTTP/1.1\" 200 0\n",
      "DEBUG:urllib3.connectionpool:Starting new HTTPS connection (1): storage.googleapis.com:443\n",
      "DEBUG:urllib3.connectionpool:https://storage.googleapis.com:443 \"HEAD /sgnlp/models/ufd/music_jp_dvd_adaptor_global/pytorch_model.bin HTTP/1.1\" 200 0\n",
      "DEBUG:urllib3.connectionpool:Starting new HTTPS connection (1): storage.googleapis.com:443\n",
      "DEBUG:urllib3.connectionpool:https://storage.googleapis.com:443 \"HEAD /sgnlp/models/ufd/music_jp_dvd_maper/config.json HTTP/1.1\" 200 0\n",
      "DEBUG:urllib3.connectionpool:Starting new HTTPS connection (1): storage.googleapis.com:443\n",
      "DEBUG:urllib3.connectionpool:https://storage.googleapis.com:443 \"HEAD /sgnlp/models/ufd/music_jp_dvd_maper/pytorch_model.bin HTTP/1.1\" 200 0\n",
      "DEBUG:urllib3.connectionpool:Starting new HTTPS connection (1): storage.googleapis.com:443\n",
      "DEBUG:urllib3.connectionpool:https://storage.googleapis.com:443 \"HEAD /sgnlp/models/ufd/music_jp_dvd_classifier/config.json HTTP/1.1\" 200 0\n",
      "DEBUG:urllib3.connectionpool:Starting new HTTPS connection (1): storage.googleapis.com:443\n",
      "DEBUG:urllib3.connectionpool:https://storage.googleapis.com:443 \"HEAD /sgnlp/models/ufd/music_jp_dvd_classifier/pytorch_model.bin HTTP/1.1\" 200 0\n",
      "DEBUG:urllib3.connectionpool:Starting new HTTPS connection (1): storage.googleapis.com:443\n",
      "DEBUG:urllib3.connectionpool:https://storage.googleapis.com:443 \"HEAD /sgnlp/models/ufd/music_fr_books_adaptor_domain/config.json HTTP/1.1\" 200 0\n",
      "DEBUG:urllib3.connectionpool:Starting new HTTPS connection (1): storage.googleapis.com:443\n",
      "DEBUG:urllib3.connectionpool:https://storage.googleapis.com:443 \"HEAD /sgnlp/models/ufd/music_fr_books_adaptor_domain/pytorch_model.bin HTTP/1.1\" 200 0\n",
      "DEBUG:urllib3.connectionpool:Starting new HTTPS connection (1): storage.googleapis.com:443\n",
      "DEBUG:urllib3.connectionpool:https://storage.googleapis.com:443 \"HEAD /sgnlp/models/ufd/music_fr_books_adaptor_global/config.json HTTP/1.1\" 200 0\n",
      "DEBUG:urllib3.connectionpool:Starting new HTTPS connection (1): storage.googleapis.com:443\n",
      "DEBUG:urllib3.connectionpool:https://storage.googleapis.com:443 \"HEAD /sgnlp/models/ufd/music_fr_books_adaptor_global/pytorch_model.bin HTTP/1.1\" 200 0\n",
      "DEBUG:urllib3.connectionpool:Starting new HTTPS connection (1): storage.googleapis.com:443\n",
      "DEBUG:urllib3.connectionpool:https://storage.googleapis.com:443 \"HEAD /sgnlp/models/ufd/music_fr_books_maper/config.json HTTP/1.1\" 200 0\n",
      "DEBUG:urllib3.connectionpool:Starting new HTTPS connection (1): storage.googleapis.com:443\n",
      "DEBUG:urllib3.connectionpool:https://storage.googleapis.com:443 \"HEAD /sgnlp/models/ufd/music_fr_books_maper/pytorch_model.bin HTTP/1.1\" 200 0\n",
      "DEBUG:urllib3.connectionpool:Starting new HTTPS connection (1): storage.googleapis.com:443\n",
      "DEBUG:urllib3.connectionpool:https://storage.googleapis.com:443 \"HEAD /sgnlp/models/ufd/music_fr_books_classifier/config.json HTTP/1.1\" 200 0\n",
      "DEBUG:urllib3.connectionpool:Starting new HTTPS connection (1): storage.googleapis.com:443\n",
      "DEBUG:urllib3.connectionpool:https://storage.googleapis.com:443 \"HEAD /sgnlp/models/ufd/music_fr_books_classifier/pytorch_model.bin HTTP/1.1\" 200 0\n",
      "DEBUG:urllib3.connectionpool:Starting new HTTPS connection (1): storage.googleapis.com:443\n",
      "DEBUG:urllib3.connectionpool:https://storage.googleapis.com:443 \"HEAD /sgnlp/models/ufd/music_fr_dvd_adaptor_domain/config.json HTTP/1.1\" 200 0\n",
      "DEBUG:urllib3.connectionpool:Starting new HTTPS connection (1): storage.googleapis.com:443\n",
      "DEBUG:urllib3.connectionpool:https://storage.googleapis.com:443 \"HEAD /sgnlp/models/ufd/music_fr_dvd_adaptor_domain/pytorch_model.bin HTTP/1.1\" 200 0\n",
      "DEBUG:urllib3.connectionpool:Starting new HTTPS connection (1): storage.googleapis.com:443\n",
      "DEBUG:urllib3.connectionpool:https://storage.googleapis.com:443 \"HEAD /sgnlp/models/ufd/music_fr_dvd_adaptor_global/config.json HTTP/1.1\" 200 0\n",
      "DEBUG:urllib3.connectionpool:Starting new HTTPS connection (1): storage.googleapis.com:443\n",
      "DEBUG:urllib3.connectionpool:https://storage.googleapis.com:443 \"HEAD /sgnlp/models/ufd/music_fr_dvd_adaptor_global/pytorch_model.bin HTTP/1.1\" 200 0\n",
      "DEBUG:urllib3.connectionpool:Starting new HTTPS connection (1): storage.googleapis.com:443\n",
      "DEBUG:urllib3.connectionpool:https://storage.googleapis.com:443 \"HEAD /sgnlp/models/ufd/music_fr_dvd_maper/config.json HTTP/1.1\" 200 0\n",
      "DEBUG:urllib3.connectionpool:Starting new HTTPS connection (1): storage.googleapis.com:443\n",
      "DEBUG:urllib3.connectionpool:https://storage.googleapis.com:443 \"HEAD /sgnlp/models/ufd/music_fr_dvd_maper/pytorch_model.bin HTTP/1.1\" 200 0\n",
      "DEBUG:urllib3.connectionpool:Starting new HTTPS connection (1): storage.googleapis.com:443\n",
      "DEBUG:urllib3.connectionpool:https://storage.googleapis.com:443 \"HEAD /sgnlp/models/ufd/music_fr_dvd_classifier/config.json HTTP/1.1\" 200 0\n",
      "DEBUG:urllib3.connectionpool:Starting new HTTPS connection (1): storage.googleapis.com:443\n",
      "DEBUG:urllib3.connectionpool:https://storage.googleapis.com:443 \"HEAD /sgnlp/models/ufd/music_fr_dvd_classifier/pytorch_model.bin HTTP/1.1\" 200 0\n",
      "DEBUG:urllib3.connectionpool:Starting new HTTPS connection (1): storage.googleapis.com:443\n",
      "DEBUG:urllib3.connectionpool:https://storage.googleapis.com:443 \"HEAD /sgnlp/models/ufd/dvd_de_books_adaptor_domain/config.json HTTP/1.1\" 200 0\n",
      "DEBUG:urllib3.connectionpool:Starting new HTTPS connection (1): storage.googleapis.com:443\n",
      "DEBUG:urllib3.connectionpool:https://storage.googleapis.com:443 \"HEAD /sgnlp/models/ufd/dvd_de_books_adaptor_domain/pytorch_model.bin HTTP/1.1\" 200 0\n",
      "DEBUG:urllib3.connectionpool:Starting new HTTPS connection (1): storage.googleapis.com:443\n",
      "DEBUG:urllib3.connectionpool:https://storage.googleapis.com:443 \"HEAD /sgnlp/models/ufd/dvd_de_books_adaptor_global/config.json HTTP/1.1\" 200 0\n",
      "DEBUG:urllib3.connectionpool:Starting new HTTPS connection (1): storage.googleapis.com:443\n",
      "DEBUG:urllib3.connectionpool:https://storage.googleapis.com:443 \"HEAD /sgnlp/models/ufd/dvd_de_books_adaptor_global/pytorch_model.bin HTTP/1.1\" 200 0\n",
      "DEBUG:urllib3.connectionpool:Starting new HTTPS connection (1): storage.googleapis.com:443\n",
      "DEBUG:urllib3.connectionpool:https://storage.googleapis.com:443 \"HEAD /sgnlp/models/ufd/dvd_de_books_maper/config.json HTTP/1.1\" 200 0\n",
      "DEBUG:urllib3.connectionpool:Starting new HTTPS connection (1): storage.googleapis.com:443\n",
      "DEBUG:urllib3.connectionpool:https://storage.googleapis.com:443 \"HEAD /sgnlp/models/ufd/dvd_de_books_maper/pytorch_model.bin HTTP/1.1\" 200 0\n",
      "DEBUG:urllib3.connectionpool:Starting new HTTPS connection (1): storage.googleapis.com:443\n",
      "DEBUG:urllib3.connectionpool:https://storage.googleapis.com:443 \"HEAD /sgnlp/models/ufd/dvd_de_books_classifier/config.json HTTP/1.1\" 200 0\n",
      "DEBUG:urllib3.connectionpool:Starting new HTTPS connection (1): storage.googleapis.com:443\n",
      "DEBUG:urllib3.connectionpool:https://storage.googleapis.com:443 \"HEAD /sgnlp/models/ufd/dvd_de_books_classifier/pytorch_model.bin HTTP/1.1\" 200 0\n",
      "DEBUG:urllib3.connectionpool:Starting new HTTPS connection (1): storage.googleapis.com:443\n",
      "DEBUG:urllib3.connectionpool:https://storage.googleapis.com:443 \"HEAD /sgnlp/models/ufd/dvd_de_music_adaptor_domain/config.json HTTP/1.1\" 200 0\n",
      "DEBUG:urllib3.connectionpool:Starting new HTTPS connection (1): storage.googleapis.com:443\n",
      "DEBUG:urllib3.connectionpool:https://storage.googleapis.com:443 \"HEAD /sgnlp/models/ufd/dvd_de_music_adaptor_domain/pytorch_model.bin HTTP/1.1\" 200 0\n",
      "DEBUG:urllib3.connectionpool:Starting new HTTPS connection (1): storage.googleapis.com:443\n",
      "DEBUG:urllib3.connectionpool:https://storage.googleapis.com:443 \"HEAD /sgnlp/models/ufd/dvd_de_music_adaptor_global/config.json HTTP/1.1\" 200 0\n",
      "DEBUG:urllib3.connectionpool:Starting new HTTPS connection (1): storage.googleapis.com:443\n",
      "DEBUG:urllib3.connectionpool:https://storage.googleapis.com:443 \"HEAD /sgnlp/models/ufd/dvd_de_music_adaptor_global/pytorch_model.bin HTTP/1.1\" 200 0\n",
      "DEBUG:urllib3.connectionpool:Starting new HTTPS connection (1): storage.googleapis.com:443\n",
      "DEBUG:urllib3.connectionpool:https://storage.googleapis.com:443 \"HEAD /sgnlp/models/ufd/dvd_de_music_maper/config.json HTTP/1.1\" 200 0\n",
      "DEBUG:urllib3.connectionpool:Starting new HTTPS connection (1): storage.googleapis.com:443\n",
      "DEBUG:urllib3.connectionpool:https://storage.googleapis.com:443 \"HEAD /sgnlp/models/ufd/dvd_de_music_maper/pytorch_model.bin HTTP/1.1\" 200 0\n",
      "DEBUG:urllib3.connectionpool:Starting new HTTPS connection (1): storage.googleapis.com:443\n",
      "DEBUG:urllib3.connectionpool:https://storage.googleapis.com:443 \"HEAD /sgnlp/models/ufd/dvd_de_music_classifier/config.json HTTP/1.1\" 200 0\n",
      "DEBUG:urllib3.connectionpool:Starting new HTTPS connection (1): storage.googleapis.com:443\n",
      "DEBUG:urllib3.connectionpool:https://storage.googleapis.com:443 \"HEAD /sgnlp/models/ufd/dvd_de_music_classifier/pytorch_model.bin HTTP/1.1\" 200 0\n",
      "DEBUG:urllib3.connectionpool:Starting new HTTPS connection (1): storage.googleapis.com:443\n",
      "DEBUG:urllib3.connectionpool:https://storage.googleapis.com:443 \"HEAD /sgnlp/models/ufd/dvd_jp_books_adaptor_domain/config.json HTTP/1.1\" 200 0\n",
      "DEBUG:urllib3.connectionpool:Starting new HTTPS connection (1): storage.googleapis.com:443\n",
      "DEBUG:urllib3.connectionpool:https://storage.googleapis.com:443 \"HEAD /sgnlp/models/ufd/dvd_jp_books_adaptor_domain/pytorch_model.bin HTTP/1.1\" 200 0\n",
      "DEBUG:urllib3.connectionpool:Starting new HTTPS connection (1): storage.googleapis.com:443\n",
      "DEBUG:urllib3.connectionpool:https://storage.googleapis.com:443 \"HEAD /sgnlp/models/ufd/dvd_jp_books_adaptor_global/config.json HTTP/1.1\" 200 0\n",
      "DEBUG:urllib3.connectionpool:Starting new HTTPS connection (1): storage.googleapis.com:443\n",
      "DEBUG:urllib3.connectionpool:https://storage.googleapis.com:443 \"HEAD /sgnlp/models/ufd/dvd_jp_books_adaptor_global/pytorch_model.bin HTTP/1.1\" 200 0\n",
      "DEBUG:urllib3.connectionpool:Starting new HTTPS connection (1): storage.googleapis.com:443\n",
      "DEBUG:urllib3.connectionpool:https://storage.googleapis.com:443 \"HEAD /sgnlp/models/ufd/dvd_jp_books_maper/config.json HTTP/1.1\" 200 0\n",
      "DEBUG:urllib3.connectionpool:Starting new HTTPS connection (1): storage.googleapis.com:443\n",
      "DEBUG:urllib3.connectionpool:https://storage.googleapis.com:443 \"HEAD /sgnlp/models/ufd/dvd_jp_books_maper/pytorch_model.bin HTTP/1.1\" 200 0\n",
      "DEBUG:urllib3.connectionpool:Starting new HTTPS connection (1): storage.googleapis.com:443\n",
      "DEBUG:urllib3.connectionpool:https://storage.googleapis.com:443 \"HEAD /sgnlp/models/ufd/dvd_jp_books_classifier/config.json HTTP/1.1\" 200 0\n",
      "DEBUG:urllib3.connectionpool:Starting new HTTPS connection (1): storage.googleapis.com:443\n",
      "DEBUG:urllib3.connectionpool:https://storage.googleapis.com:443 \"HEAD /sgnlp/models/ufd/dvd_jp_books_classifier/pytorch_model.bin HTTP/1.1\" 200 0\n",
      "DEBUG:urllib3.connectionpool:Starting new HTTPS connection (1): storage.googleapis.com:443\n",
      "DEBUG:urllib3.connectionpool:https://storage.googleapis.com:443 \"HEAD /sgnlp/models/ufd/dvd_jp_music_adaptor_domain/config.json HTTP/1.1\" 200 0\n",
      "DEBUG:urllib3.connectionpool:Starting new HTTPS connection (1): storage.googleapis.com:443\n",
      "DEBUG:urllib3.connectionpool:https://storage.googleapis.com:443 \"HEAD /sgnlp/models/ufd/dvd_jp_music_adaptor_domain/pytorch_model.bin HTTP/1.1\" 200 0\n",
      "DEBUG:urllib3.connectionpool:Starting new HTTPS connection (1): storage.googleapis.com:443\n",
      "DEBUG:urllib3.connectionpool:https://storage.googleapis.com:443 \"HEAD /sgnlp/models/ufd/dvd_jp_music_adaptor_global/config.json HTTP/1.1\" 200 0\n",
      "DEBUG:urllib3.connectionpool:Starting new HTTPS connection (1): storage.googleapis.com:443\n",
      "DEBUG:urllib3.connectionpool:https://storage.googleapis.com:443 \"HEAD /sgnlp/models/ufd/dvd_jp_music_adaptor_global/pytorch_model.bin HTTP/1.1\" 200 0\n",
      "DEBUG:urllib3.connectionpool:Starting new HTTPS connection (1): storage.googleapis.com:443\n",
      "DEBUG:urllib3.connectionpool:https://storage.googleapis.com:443 \"HEAD /sgnlp/models/ufd/dvd_jp_music_maper/config.json HTTP/1.1\" 200 0\n",
      "DEBUG:urllib3.connectionpool:Starting new HTTPS connection (1): storage.googleapis.com:443\n",
      "DEBUG:urllib3.connectionpool:https://storage.googleapis.com:443 \"HEAD /sgnlp/models/ufd/dvd_jp_music_maper/pytorch_model.bin HTTP/1.1\" 200 0\n",
      "DEBUG:urllib3.connectionpool:Starting new HTTPS connection (1): storage.googleapis.com:443\n",
      "DEBUG:urllib3.connectionpool:https://storage.googleapis.com:443 \"HEAD /sgnlp/models/ufd/dvd_jp_music_classifier/config.json HTTP/1.1\" 200 0\n",
      "DEBUG:urllib3.connectionpool:Starting new HTTPS connection (1): storage.googleapis.com:443\n",
      "DEBUG:urllib3.connectionpool:https://storage.googleapis.com:443 \"HEAD /sgnlp/models/ufd/dvd_jp_music_classifier/pytorch_model.bin HTTP/1.1\" 200 0\n",
      "DEBUG:urllib3.connectionpool:Starting new HTTPS connection (1): storage.googleapis.com:443\n",
      "DEBUG:urllib3.connectionpool:https://storage.googleapis.com:443 \"HEAD /sgnlp/models/ufd/dvd_fr_books_adaptor_domain/config.json HTTP/1.1\" 200 0\n",
      "DEBUG:urllib3.connectionpool:Starting new HTTPS connection (1): storage.googleapis.com:443\n",
      "DEBUG:urllib3.connectionpool:https://storage.googleapis.com:443 \"HEAD /sgnlp/models/ufd/dvd_fr_books_adaptor_domain/pytorch_model.bin HTTP/1.1\" 200 0\n",
      "DEBUG:urllib3.connectionpool:Starting new HTTPS connection (1): storage.googleapis.com:443\n",
      "DEBUG:urllib3.connectionpool:https://storage.googleapis.com:443 \"HEAD /sgnlp/models/ufd/dvd_fr_books_adaptor_global/config.json HTTP/1.1\" 200 0\n",
      "DEBUG:urllib3.connectionpool:Starting new HTTPS connection (1): storage.googleapis.com:443\n",
      "DEBUG:urllib3.connectionpool:https://storage.googleapis.com:443 \"HEAD /sgnlp/models/ufd/dvd_fr_books_adaptor_global/pytorch_model.bin HTTP/1.1\" 200 0\n",
      "DEBUG:urllib3.connectionpool:Starting new HTTPS connection (1): storage.googleapis.com:443\n",
      "DEBUG:urllib3.connectionpool:https://storage.googleapis.com:443 \"HEAD /sgnlp/models/ufd/dvd_fr_books_maper/config.json HTTP/1.1\" 200 0\n",
      "DEBUG:urllib3.connectionpool:Starting new HTTPS connection (1): storage.googleapis.com:443\n",
      "DEBUG:urllib3.connectionpool:https://storage.googleapis.com:443 \"HEAD /sgnlp/models/ufd/dvd_fr_books_maper/pytorch_model.bin HTTP/1.1\" 200 0\n",
      "DEBUG:urllib3.connectionpool:Starting new HTTPS connection (1): storage.googleapis.com:443\n",
      "DEBUG:urllib3.connectionpool:https://storage.googleapis.com:443 \"HEAD /sgnlp/models/ufd/dvd_fr_books_classifier/config.json HTTP/1.1\" 200 0\n",
      "DEBUG:urllib3.connectionpool:Starting new HTTPS connection (1): storage.googleapis.com:443\n",
      "DEBUG:urllib3.connectionpool:https://storage.googleapis.com:443 \"HEAD /sgnlp/models/ufd/dvd_fr_books_classifier/pytorch_model.bin HTTP/1.1\" 200 0\n",
      "DEBUG:urllib3.connectionpool:Starting new HTTPS connection (1): storage.googleapis.com:443\n",
      "DEBUG:urllib3.connectionpool:https://storage.googleapis.com:443 \"HEAD /sgnlp/models/ufd/dvd_fr_music_adaptor_domain/config.json HTTP/1.1\" 200 0\n",
      "DEBUG:urllib3.connectionpool:Starting new HTTPS connection (1): storage.googleapis.com:443\n",
      "DEBUG:urllib3.connectionpool:https://storage.googleapis.com:443 \"HEAD /sgnlp/models/ufd/dvd_fr_music_adaptor_domain/pytorch_model.bin HTTP/1.1\" 200 0\n",
      "DEBUG:urllib3.connectionpool:Starting new HTTPS connection (1): storage.googleapis.com:443\n",
      "DEBUG:urllib3.connectionpool:https://storage.googleapis.com:443 \"HEAD /sgnlp/models/ufd/dvd_fr_music_adaptor_global/config.json HTTP/1.1\" 200 0\n",
      "DEBUG:urllib3.connectionpool:Starting new HTTPS connection (1): storage.googleapis.com:443\n",
      "DEBUG:urllib3.connectionpool:https://storage.googleapis.com:443 \"HEAD /sgnlp/models/ufd/dvd_fr_music_adaptor_global/pytorch_model.bin HTTP/1.1\" 200 0\n",
      "DEBUG:urllib3.connectionpool:Starting new HTTPS connection (1): storage.googleapis.com:443\n",
      "DEBUG:urllib3.connectionpool:https://storage.googleapis.com:443 \"HEAD /sgnlp/models/ufd/dvd_fr_music_maper/config.json HTTP/1.1\" 200 0\n",
      "DEBUG:urllib3.connectionpool:Starting new HTTPS connection (1): storage.googleapis.com:443\n",
      "DEBUG:urllib3.connectionpool:https://storage.googleapis.com:443 \"HEAD /sgnlp/models/ufd/dvd_fr_music_maper/pytorch_model.bin HTTP/1.1\" 200 0\n",
      "DEBUG:urllib3.connectionpool:Starting new HTTPS connection (1): storage.googleapis.com:443\n",
      "DEBUG:urllib3.connectionpool:https://storage.googleapis.com:443 \"HEAD /sgnlp/models/ufd/dvd_fr_music_classifier/config.json HTTP/1.1\" 200 0\n",
      "DEBUG:urllib3.connectionpool:Starting new HTTPS connection (1): storage.googleapis.com:443\n",
      "DEBUG:urllib3.connectionpool:https://storage.googleapis.com:443 \"HEAD /sgnlp/models/ufd/dvd_fr_music_classifier/pytorch_model.bin HTTP/1.1\" 200 0\n"
     ]
    }
   ],
   "source": [
    "model_builder = UFDModelBuilder()\n",
    "preprocessor = UFDPreprocessor()\n",
    "model_groups = model_builder.build_model_group()"
   ]
  },
  {
   "cell_type": "code",
   "execution_count": 26,
   "id": "e8eb7e9d",
   "metadata": {},
   "outputs": [
    {
     "name": "stdout",
     "output_type": "stream",
     "text": [
      "0\n"
     ]
    }
   ],
   "source": [
    "text = ['extremely bad, i hate it']\n",
    "text_feature = preprocessor(text)\n",
    "output = model_groups['books_de_dvd'](**text_feature)\n",
    "logits_probabilities = F.softmax(output.logits, dim=1)\n",
    "max_output = torch.max(logits_probabilities, axis=1)\n",
    "probabilities = max_output.values.item()\n",
    "sentiments = max_output.indices.item()\n",
    "print(sentiments)"
   ]
  },
  {
   "cell_type": "code",
   "execution_count": 29,
   "id": "f4336ee3",
   "metadata": {},
   "outputs": [
    {
     "name": "stdout",
     "output_type": "stream",
     "text": [
      "These are the available domains\n",
      "books_de_music\n",
      "books_de_dvd\n",
      "books_jp_music\n",
      "books_jp_dvd\n",
      "books_fr_music\n",
      "books_fr_dvd\n",
      "music_de_books\n",
      "music_de_dvd\n",
      "music_jp_books\n",
      "music_jp_dvd\n",
      "music_fr_books\n",
      "music_fr_dvd\n",
      "dvd_de_books\n",
      "dvd_de_music\n",
      "dvd_jp_books\n",
      "dvd_jp_music\n",
      "dvd_fr_books\n",
      "dvd_fr_music\n"
     ]
    }
   ],
   "source": [
    "print('These are the available domains')\n",
    "for i in model_groups:\n",
    "    print(i)"
   ]
  },
  {
   "cell_type": "code",
   "execution_count": null,
   "id": "47205878",
   "metadata": {},
   "outputs": [],
   "source": []
  }
 ],
 "metadata": {
  "kernelspec": {
   "display_name": "Python 3",
   "language": "python",
   "name": "python3"
  },
  "language_info": {
   "codemirror_mode": {
    "name": "ipython",
    "version": 3
   },
   "file_extension": ".py",
   "mimetype": "text/x-python",
   "name": "python",
   "nbconvert_exporter": "python",
   "pygments_lexer": "ipython3",
   "version": "3.10.9"
  },
  "vscode": {
   "interpreter": {
    "hash": "66248a3dd18bcdbf8d5feab444323792cfcd754206d511a0b67cba6195d53c56"
   }
  }
 },
 "nbformat": 4,
 "nbformat_minor": 5
}
