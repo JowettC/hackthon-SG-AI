{
 "cells": [
  {
   "cell_type": "code",
   "execution_count": 1,
   "metadata": {},
   "outputs": [
    {
     "name": "stdout",
     "output_type": "stream",
     "text": [
      "Requirement already satisfied: peekingduck in c:\\users\\pm\\anaconda3\\lib\\site-packages (1.3.0.post1)\n",
      "Requirement already satisfied: click==7.1.2 in c:\\users\\pm\\anaconda3\\lib\\site-packages (from peekingduck) (7.1.2)\n",
      "Requirement already satisfied: opencv-contrib-python>=4.5.2.54 in c:\\users\\pm\\anaconda3\\lib\\site-packages (from peekingduck) (4.7.0.68)\n",
      "Collecting torch==1.10.0\n",
      "  Using cached torch-1.10.0-cp38-cp38-win_amd64.whl (226.6 MB)\n",
      "Requirement already satisfied: tensorflow<2.8,>=2.2 in c:\\users\\pm\\anaconda3\\lib\\site-packages (from peekingduck) (2.7.4)\n",
      "Collecting tqdm==4.45.0\n",
      "  Using cached tqdm-4.45.0-py2.py3-none-any.whl (60 kB)\n",
      "Collecting colorama==0.4.4\n",
      "  Using cached colorama-0.4.4-py2.py3-none-any.whl (16 kB)\n",
      "Requirement already satisfied: requests==2.24 in c:\\users\\pm\\anaconda3\\lib\\site-packages (from peekingduck) (2.24.0)\n",
      "Requirement already satisfied: pyyaml>=5.3 in c:\\users\\pm\\anaconda3\\lib\\site-packages (from peekingduck) (5.4.1)\n",
      "Requirement already satisfied: typeguard>=2.13.3 in c:\\users\\pm\\anaconda3\\lib\\site-packages (from peekingduck) (2.13.3)\n",
      "Requirement already satisfied: numpy>=1.17.3 in c:\\users\\pm\\anaconda3\\lib\\site-packages (from peekingduck) (1.20.1)\n",
      "Requirement already satisfied: scipy>=1.4.1 in c:\\users\\pm\\anaconda3\\lib\\site-packages (from peekingduck) (1.6.2)\n",
      "Requirement already satisfied: torchvision==0.11.1 in c:\\users\\pm\\anaconda3\\lib\\site-packages (from peekingduck) (0.11.1)\n",
      "Requirement already satisfied: protobuf<=3.20.1 in c:\\users\\pm\\anaconda3\\lib\\site-packages (from peekingduck) (3.19.6)\n",
      "Requirement already satisfied: certifi>=2017.4.17 in c:\\users\\pm\\anaconda3\\lib\\site-packages (from requests==2.24->peekingduck) (2020.12.5)\n",
      "Requirement already satisfied: idna<3,>=2.5 in c:\\users\\pm\\anaconda3\\lib\\site-packages (from requests==2.24->peekingduck) (2.10)\n",
      "Requirement already satisfied: urllib3!=1.25.0,!=1.25.1,<1.26,>=1.21.1 in c:\\users\\pm\\anaconda3\\lib\\site-packages (from requests==2.24->peekingduck) (1.25.11)\n",
      "Requirement already satisfied: chardet<4,>=3.0.2 in c:\\users\\pm\\anaconda3\\lib\\site-packages (from requests==2.24->peekingduck) (3.0.4)\n",
      "Requirement already satisfied: typing-extensions in c:\\users\\pm\\anaconda3\\lib\\site-packages (from torch==1.10.0->peekingduck) (4.4.0)\n",
      "Requirement already satisfied: pillow!=8.3.0,>=5.3.0 in c:\\users\\pm\\anaconda3\\lib\\site-packages (from torchvision==0.11.1->peekingduck) (8.2.0)\n",
      "Requirement already satisfied: wheel<1.0,>=0.32.0 in c:\\users\\pm\\anaconda3\\lib\\site-packages (from tensorflow<2.8,>=2.2->peekingduck) (0.36.2)\n",
      "Requirement already satisfied: tensorflow-estimator<2.8,~=2.7.0rc0 in c:\\users\\pm\\anaconda3\\lib\\site-packages (from tensorflow<2.8,>=2.2->peekingduck) (2.7.0)\n",
      "Requirement already satisfied: termcolor>=1.1.0 in c:\\users\\pm\\anaconda3\\lib\\site-packages (from tensorflow<2.8,>=2.2->peekingduck) (2.0.1)\n",
      "Requirement already satisfied: google-pasta>=0.1.1 in c:\\users\\pm\\anaconda3\\lib\\site-packages (from tensorflow<2.8,>=2.2->peekingduck) (0.2.0)\n",
      "Requirement already satisfied: six>=1.12.0 in c:\\users\\pm\\anaconda3\\lib\\site-packages (from tensorflow<2.8,>=2.2->peekingduck) (1.15.0)\n",
      "Requirement already satisfied: keras-preprocessing>=1.1.1 in c:\\users\\pm\\anaconda3\\lib\\site-packages (from tensorflow<2.8,>=2.2->peekingduck) (1.1.2)\n",
      "Requirement already satisfied: astunparse>=1.6.0 in c:\\users\\pm\\anaconda3\\lib\\site-packages (from tensorflow<2.8,>=2.2->peekingduck) (1.6.3)\n",
      "Requirement already satisfied: keras<2.8,>=2.7.0rc0 in c:\\users\\pm\\anaconda3\\lib\\site-packages (from tensorflow<2.8,>=2.2->peekingduck) (2.7.0)\n",
      "Requirement already satisfied: tensorflow-io-gcs-filesystem>=0.21.0 in c:\\users\\pm\\anaconda3\\lib\\site-packages (from tensorflow<2.8,>=2.2->peekingduck) (0.27.0)\n",
      "Requirement already satisfied: flatbuffers<3.0,>=1.12 in c:\\users\\pm\\anaconda3\\lib\\site-packages (from tensorflow<2.8,>=2.2->peekingduck) (2.0.7)\n",
      "Requirement already satisfied: libclang>=9.0.1 in c:\\users\\pm\\anaconda3\\lib\\site-packages (from tensorflow<2.8,>=2.2->peekingduck) (14.0.6)\n",
      "Requirement already satisfied: opt-einsum>=2.3.2 in c:\\users\\pm\\anaconda3\\lib\\site-packages (from tensorflow<2.8,>=2.2->peekingduck) (3.3.0)\n",
      "Requirement already satisfied: tensorboard~=2.6 in c:\\users\\pm\\anaconda3\\lib\\site-packages (from tensorflow<2.8,>=2.2->peekingduck) (2.10.1)\n",
      "Requirement already satisfied: absl-py>=0.4.0 in c:\\users\\pm\\anaconda3\\lib\\site-packages (from tensorflow<2.8,>=2.2->peekingduck) (1.2.0)\n",
      "Requirement already satisfied: wrapt>=1.11.0 in c:\\users\\pm\\anaconda3\\lib\\site-packages (from tensorflow<2.8,>=2.2->peekingduck) (1.12.1)\n",
      "Requirement already satisfied: grpcio<2.0,>=1.24.3 in c:\\users\\pm\\anaconda3\\lib\\site-packages (from tensorflow<2.8,>=2.2->peekingduck) (1.49.1)\n",
      "Requirement already satisfied: h5py>=2.9.0 in c:\\users\\pm\\anaconda3\\lib\\site-packages (from tensorflow<2.8,>=2.2->peekingduck) (2.10.0)\n",
      "Requirement already satisfied: gast<0.5.0,>=0.2.1 in c:\\users\\pm\\anaconda3\\lib\\site-packages (from tensorflow<2.8,>=2.2->peekingduck) (0.4.0)\n",
      "Requirement already satisfied: google-auth<3,>=1.6.3 in c:\\users\\pm\\anaconda3\\lib\\site-packages (from tensorboard~=2.6->tensorflow<2.8,>=2.2->peekingduck) (2.12.0)\n",
      "Requirement already satisfied: markdown>=2.6.8 in c:\\users\\pm\\anaconda3\\lib\\site-packages (from tensorboard~=2.6->tensorflow<2.8,>=2.2->peekingduck) (3.4.1)\n",
      "Requirement already satisfied: setuptools>=41.0.0 in c:\\users\\pm\\anaconda3\\lib\\site-packages (from tensorboard~=2.6->tensorflow<2.8,>=2.2->peekingduck) (52.0.0.post20210125)\n",
      "Requirement already satisfied: tensorboard-plugin-wit>=1.6.0 in c:\\users\\pm\\anaconda3\\lib\\site-packages (from tensorboard~=2.6->tensorflow<2.8,>=2.2->peekingduck) (1.8.1)\n",
      "Requirement already satisfied: google-auth-oauthlib<0.5,>=0.4.1 in c:\\users\\pm\\anaconda3\\lib\\site-packages (from tensorboard~=2.6->tensorflow<2.8,>=2.2->peekingduck) (0.4.6)\n",
      "Requirement already satisfied: tensorboard-data-server<0.7.0,>=0.6.0 in c:\\users\\pm\\anaconda3\\lib\\site-packages (from tensorboard~=2.6->tensorflow<2.8,>=2.2->peekingduck) (0.6.1)\n",
      "Requirement already satisfied: werkzeug>=1.0.1 in c:\\users\\pm\\anaconda3\\lib\\site-packages (from tensorboard~=2.6->tensorflow<2.8,>=2.2->peekingduck) (1.0.1)\n",
      "Requirement already satisfied: cachetools<6.0,>=2.0.0 in c:\\users\\pm\\anaconda3\\lib\\site-packages (from google-auth<3,>=1.6.3->tensorboard~=2.6->tensorflow<2.8,>=2.2->peekingduck) (5.2.0)\n",
      "Requirement already satisfied: pyasn1-modules>=0.2.1 in c:\\users\\pm\\anaconda3\\lib\\site-packages (from google-auth<3,>=1.6.3->tensorboard~=2.6->tensorflow<2.8,>=2.2->peekingduck) (0.2.8)\n",
      "Requirement already satisfied: rsa<5,>=3.1.4 in c:\\users\\pm\\anaconda3\\lib\\site-packages (from google-auth<3,>=1.6.3->tensorboard~=2.6->tensorflow<2.8,>=2.2->peekingduck) (4.9)\n",
      "Requirement already satisfied: requests-oauthlib>=0.7.0 in c:\\users\\pm\\anaconda3\\lib\\site-packages (from google-auth-oauthlib<0.5,>=0.4.1->tensorboard~=2.6->tensorflow<2.8,>=2.2->peekingduck) (1.3.1)\n",
      "Requirement already satisfied: importlib-metadata>=4.4 in c:\\users\\pm\\anaconda3\\lib\\site-packages (from markdown>=2.6.8->tensorboard~=2.6->tensorflow<2.8,>=2.2->peekingduck) (5.0.0)\n",
      "Requirement already satisfied: zipp>=0.5 in c:\\users\\pm\\anaconda3\\lib\\site-packages (from importlib-metadata>=4.4->markdown>=2.6.8->tensorboard~=2.6->tensorflow<2.8,>=2.2->peekingduck) (3.4.1)\n",
      "Requirement already satisfied: pyasn1<0.5.0,>=0.4.6 in c:\\users\\pm\\anaconda3\\lib\\site-packages (from pyasn1-modules>=0.2.1->google-auth<3,>=1.6.3->tensorboard~=2.6->tensorflow<2.8,>=2.2->peekingduck) (0.4.8)\n",
      "Requirement already satisfied: oauthlib>=3.0.0 in c:\\users\\pm\\anaconda3\\lib\\site-packages (from requests-oauthlib>=0.7.0->google-auth-oauthlib<0.5,>=0.4.1->tensorboard~=2.6->tensorflow<2.8,>=2.2->peekingduck) (3.2.1)\n",
      "Installing collected packages: torch, tqdm, colorama\n",
      "  Attempting uninstall: torch\n",
      "    Found existing installation: torch 1.13.1\n",
      "    Uninstalling torch-1.13.1:\n",
      "      Successfully uninstalled torch-1.13.1\n"
     ]
    },
    {
     "name": "stderr",
     "output_type": "stream",
     "text": [
      "ERROR: Could not install packages due to an OSError: [WinError 5] Access is denied: 'C:\\\\Users\\\\PM\\\\anaconda3\\\\Lib\\\\site-packages\\\\~-rch\\\\lib\\\\asmjit.dll'\n",
      "Consider using the `--user` option or check the permissions.\n",
      "\n"
     ]
    }
   ],
   "source": [
    "!pip install peekingduck"
   ]
  },
  {
   "cell_type": "code",
   "execution_count": 2,
   "metadata": {},
   "outputs": [
    {
     "name": "stdout",
     "output_type": "stream",
     "text": [
      "Requirement already satisfied: sgnlp in c:\\users\\pm\\anaconda3\\lib\\site-packages (0.4.0)\n",
      "Requirement already satisfied: scikit-learn in c:\\users\\pm\\anaconda3\\lib\\site-packages (from sgnlp) (0.24.1)\n",
      "Requirement already satisfied: pandas in c:\\users\\pm\\anaconda3\\lib\\site-packages (from sgnlp) (1.2.4)\n",
      "Requirement already satisfied: torchtext in c:\\users\\pm\\anaconda3\\lib\\site-packages (from sgnlp) (0.14.1)\n",
      "Requirement already satisfied: datasets in c:\\users\\pm\\anaconda3\\lib\\site-packages (from sgnlp) (2.8.0)\n",
      "Requirement already satisfied: transformers in c:\\users\\pm\\anaconda3\\lib\\site-packages (from sgnlp) (4.25.1)\n",
      "Requirement already satisfied: tokenizers in c:\\users\\pm\\anaconda3\\lib\\site-packages (from sgnlp) (0.13.2)\n",
      "Requirement already satisfied: spacy in c:\\users\\pm\\anaconda3\\lib\\site-packages (from sgnlp) (3.5.0)\n",
      "Requirement already satisfied: torch<2,>=1.6 in c:\\users\\pm\\anaconda3\\lib\\site-packages (from sgnlp) (1.10.0)\n",
      "Requirement already satisfied: numpy in c:\\users\\pm\\anaconda3\\lib\\site-packages (from sgnlp) (1.20.1)\n",
      "Requirement already satisfied: nltk in c:\\users\\pm\\anaconda3\\lib\\site-packages (from sgnlp) (3.7)\n",
      "Requirement already satisfied: sentencepiece in c:\\users\\pm\\anaconda3\\lib\\site-packages (from sgnlp) (0.1.97)\n",
      "Requirement already satisfied: typing-extensions in c:\\users\\pm\\anaconda3\\lib\\site-packages (from torch<2,>=1.6->sgnlp) (4.4.0)\n",
      "Requirement already satisfied: pyyaml>=5.1 in c:\\users\\pm\\anaconda3\\lib\\site-packages (from datasets->sgnlp) (5.4.1)\n",
      "Requirement already satisfied: requests>=2.19.0 in c:\\users\\pm\\anaconda3\\lib\\site-packages (from datasets->sgnlp) (2.24.0)\n",
      "Requirement already satisfied: xxhash in c:\\users\\pm\\anaconda3\\lib\\site-packages (from datasets->sgnlp) (3.2.0)\n",
      "Requirement already satisfied: multiprocess in c:\\users\\pm\\anaconda3\\lib\\site-packages (from datasets->sgnlp) (0.70.14)\n",
      "Requirement already satisfied: aiohttp in c:\\users\\pm\\anaconda3\\lib\\site-packages (from datasets->sgnlp) (3.8.3)\n",
      "Requirement already satisfied: fsspec[http]>=2021.11.1 in c:\\users\\pm\\anaconda3\\lib\\site-packages (from datasets->sgnlp) (2023.1.0)\n",
      "Requirement already satisfied: pyarrow>=6.0.0 in c:\\users\\pm\\anaconda3\\lib\\site-packages (from datasets->sgnlp) (10.0.1)\n",
      "Requirement already satisfied: responses<0.19 in c:\\users\\pm\\anaconda3\\lib\\site-packages (from datasets->sgnlp) (0.18.0)\n",
      "Requirement already satisfied: tqdm>=4.62.1 in c:\\users\\pm\\anaconda3\\lib\\site-packages (from datasets->sgnlp) (4.64.1)\n",
      "Requirement already satisfied: huggingface-hub<1.0.0,>=0.2.0 in c:\\users\\pm\\anaconda3\\lib\\site-packages (from datasets->sgnlp) (0.11.1)\n",
      "Requirement already satisfied: packaging in c:\\users\\pm\\anaconda3\\lib\\site-packages (from datasets->sgnlp) (21.2)\n",
      "Requirement already satisfied: dill<0.3.7 in c:\\users\\pm\\anaconda3\\lib\\site-packages (from datasets->sgnlp) (0.3.6)\n",
      "Requirement already satisfied: charset-normalizer<3.0,>=2.0 in c:\\users\\pm\\anaconda3\\lib\\site-packages (from aiohttp->datasets->sgnlp) (2.1.1)\n",
      "Requirement already satisfied: yarl<2.0,>=1.0 in c:\\users\\pm\\anaconda3\\lib\\site-packages (from aiohttp->datasets->sgnlp) (1.8.2)\n",
      "Requirement already satisfied: multidict<7.0,>=4.5 in c:\\users\\pm\\anaconda3\\lib\\site-packages (from aiohttp->datasets->sgnlp) (6.0.4)\n",
      "Requirement already satisfied: attrs>=17.3.0 in c:\\users\\pm\\anaconda3\\lib\\site-packages (from aiohttp->datasets->sgnlp) (20.3.0)\n",
      "Requirement already satisfied: async-timeout<5.0,>=4.0.0a3 in c:\\users\\pm\\anaconda3\\lib\\site-packages (from aiohttp->datasets->sgnlp) (4.0.2)\n",
      "Requirement already satisfied: aiosignal>=1.1.2 in c:\\users\\pm\\anaconda3\\lib\\site-packages (from aiohttp->datasets->sgnlp) (1.3.1)\n",
      "Requirement already satisfied: frozenlist>=1.1.1 in c:\\users\\pm\\anaconda3\\lib\\site-packages (from aiohttp->datasets->sgnlp) (1.3.3)\n",
      "Requirement already satisfied: filelock in c:\\users\\pm\\anaconda3\\lib\\site-packages (from huggingface-hub<1.0.0,>=0.2.0->datasets->sgnlp) (3.0.12)\n",
      "Requirement already satisfied: pyparsing<3,>=2.0.2 in c:\\users\\pm\\anaconda3\\lib\\site-packages (from packaging->datasets->sgnlp) (2.4.7)\n",
      "Requirement already satisfied: idna<3,>=2.5 in c:\\users\\pm\\anaconda3\\lib\\site-packages (from requests>=2.19.0->datasets->sgnlp) (2.10)\n",
      "Requirement already satisfied: chardet<4,>=3.0.2 in c:\\users\\pm\\anaconda3\\lib\\site-packages (from requests>=2.19.0->datasets->sgnlp) (3.0.4)\n",
      "Requirement already satisfied: urllib3!=1.25.0,!=1.25.1,<1.26,>=1.21.1 in c:\\users\\pm\\anaconda3\\lib\\site-packages (from requests>=2.19.0->datasets->sgnlp) (1.25.11)\n",
      "Requirement already satisfied: certifi>=2017.4.17 in c:\\users\\pm\\anaconda3\\lib\\site-packages (from requests>=2.19.0->datasets->sgnlp) (2020.12.5)\n",
      "Requirement already satisfied: colorama in c:\\users\\pm\\anaconda3\\lib\\site-packages (from tqdm>=4.62.1->datasets->sgnlp) (0.4.6)\n",
      "Requirement already satisfied: joblib in c:\\users\\pm\\anaconda3\\lib\\site-packages (from nltk->sgnlp) (1.0.1)\n",
      "Requirement already satisfied: regex>=2021.8.3 in c:\\users\\pm\\anaconda3\\lib\\site-packages (from nltk->sgnlp) (2022.3.15)\n",
      "Requirement already satisfied: click in c:\\users\\pm\\anaconda3\\lib\\site-packages (from nltk->sgnlp) (7.1.2)\n",
      "Requirement already satisfied: python-dateutil>=2.7.3 in c:\\users\\pm\\anaconda3\\lib\\site-packages (from pandas->sgnlp) (2.8.1)\n",
      "Requirement already satisfied: pytz>=2017.3 in c:\\users\\pm\\anaconda3\\lib\\site-packages (from pandas->sgnlp) (2021.1)\n",
      "Requirement already satisfied: six>=1.5 in c:\\users\\pm\\anaconda3\\lib\\site-packages (from python-dateutil>=2.7.3->pandas->sgnlp) (1.15.0)\n",
      "Requirement already satisfied: scipy>=0.19.1 in c:\\users\\pm\\anaconda3\\lib\\site-packages (from scikit-learn->sgnlp) (1.6.2)\n",
      "Requirement already satisfied: threadpoolctl>=2.0.0 in c:\\users\\pm\\anaconda3\\lib\\site-packages (from scikit-learn->sgnlp) (2.1.0)\n",
      "Requirement already satisfied: srsly<3.0.0,>=2.4.3 in c:\\users\\pm\\anaconda3\\lib\\site-packages (from spacy->sgnlp) (2.4.5)\n",
      "Requirement already satisfied: spacy-loggers<2.0.0,>=1.0.0 in c:\\users\\pm\\anaconda3\\lib\\site-packages (from spacy->sgnlp) (1.0.4)\n",
      "Requirement already satisfied: catalogue<2.1.0,>=2.0.6 in c:\\users\\pm\\anaconda3\\lib\\site-packages (from spacy->sgnlp) (2.0.8)\n",
      "Requirement already satisfied: murmurhash<1.1.0,>=0.28.0 in c:\\users\\pm\\anaconda3\\lib\\site-packages (from spacy->sgnlp) (1.0.9)\n",
      "Requirement already satisfied: langcodes<4.0.0,>=3.2.0 in c:\\users\\pm\\anaconda3\\lib\\site-packages (from spacy->sgnlp) (3.3.0)\n",
      "Requirement already satisfied: preshed<3.1.0,>=3.0.2 in c:\\users\\pm\\anaconda3\\lib\\site-packages (from spacy->sgnlp) (3.0.8)\n",
      "Requirement already satisfied: spacy-legacy<3.1.0,>=3.0.11 in c:\\users\\pm\\anaconda3\\lib\\site-packages (from spacy->sgnlp) (3.0.12)\n",
      "Requirement already satisfied: typer<0.8.0,>=0.3.0 in c:\\users\\pm\\anaconda3\\lib\\site-packages (from spacy->sgnlp) (0.7.0)\n",
      "Requirement already satisfied: smart-open<7.0.0,>=5.2.1 in c:\\users\\pm\\anaconda3\\lib\\site-packages (from spacy->sgnlp) (6.3.0)\n",
      "Requirement already satisfied: pathy>=0.10.0 in c:\\users\\pm\\anaconda3\\lib\\site-packages (from spacy->sgnlp) (0.10.1)\n",
      "Requirement already satisfied: wasabi<1.2.0,>=0.9.1 in c:\\users\\pm\\anaconda3\\lib\\site-packages (from spacy->sgnlp) (1.1.1)\n",
      "Requirement already satisfied: thinc<8.2.0,>=8.1.0 in c:\\users\\pm\\anaconda3\\lib\\site-packages (from spacy->sgnlp) (8.1.7)\n",
      "Requirement already satisfied: setuptools in c:\\users\\pm\\anaconda3\\lib\\site-packages (from spacy->sgnlp) (52.0.0.post20210125)\n",
      "Requirement already satisfied: cymem<2.1.0,>=2.0.2 in c:\\users\\pm\\anaconda3\\lib\\site-packages (from spacy->sgnlp) (2.0.7)\n",
      "Requirement already satisfied: pydantic!=1.8,!=1.8.1,<1.11.0,>=1.7.4 in c:\\users\\pm\\anaconda3\\lib\\site-packages (from spacy->sgnlp) (1.10.4)\n",
      "Requirement already satisfied: jinja2 in c:\\users\\pm\\anaconda3\\lib\\site-packages (from spacy->sgnlp) (2.11.3)\n",
      "Requirement already satisfied: blis<0.8.0,>=0.7.8 in c:\\users\\pm\\anaconda3\\lib\\site-packages (from thinc<8.2.0,>=8.1.0->spacy->sgnlp) (0.7.9)\n",
      "Requirement already satisfied: confection<1.0.0,>=0.0.1 in c:\\users\\pm\\anaconda3\\lib\\site-packages (from thinc<8.2.0,>=8.1.0->spacy->sgnlp) (0.0.4)\n",
      "Requirement already satisfied: MarkupSafe>=0.23 in c:\\users\\pm\\anaconda3\\lib\\site-packages (from jinja2->spacy->sgnlp) (1.1.1)\n",
      "Collecting torch<2,>=1.6\n",
      "  Using cached torch-1.13.1-cp38-cp38-win_amd64.whl (162.6 MB)\n",
      "Installing collected packages: torch\n",
      "  Attempting uninstall: torch\n",
      "    Found existing installation: torch 1.10.0\n",
      "    Uninstalling torch-1.10.0:\n",
      "      Successfully uninstalled torch-1.10.0\n",
      "Successfully installed torch-1.13.1\n"
     ]
    },
    {
     "name": "stderr",
     "output_type": "stream",
     "text": [
      "ERROR: pip's dependency resolver does not currently take into account all the packages that are installed. This behaviour is the source of the following dependency conflicts.\n",
      "torchvision 0.11.1 requires torch==1.10.0, but you have torch 1.13.1 which is incompatible.\n",
      "peekingduck 1.3.0.post1 requires colorama==0.4.4, but you have colorama 0.4.6 which is incompatible.\n",
      "peekingduck 1.3.0.post1 requires torch==1.10.0, but you have torch 1.13.1 which is incompatible.\n",
      "peekingduck 1.3.0.post1 requires tqdm==4.45.0, but you have tqdm 4.64.1 which is incompatible.\n"
     ]
    }
   ],
   "source": [
    "!pip install sgnlp"
   ]
  },
  {
   "cell_type": "code",
   "execution_count": 3,
   "metadata": {},
   "outputs": [
    {
     "name": "stderr",
     "output_type": "stream",
     "text": [
      "c:\\Users\\PM\\anaconda3\\lib\\site-packages\\transformers\\utils\\hub.py:566: UserWarning: Using `from_pretrained` with the url of a file (here https://storage.googleapis.com/sgnlp/models/reccon_emotion_entailment/config.json) is deprecated and won't be possible anymore in v5 of Transformers. You should host your file on the Hub (hf.co) instead and use the repository ID. Note that this is not compatible with the caching system (your file will be downloaded at each execution) or multiple processes (each process will download the file in a different temporary file).\n",
      "  warnings.warn(\n"
     ]
    },
    {
     "data": {
      "application/vnd.jupyter.widget-view+json": {
       "model_id": "13c5b8a56c40451ab54aaf0b63cad16d",
       "version_major": 2,
       "version_minor": 0
      },
      "text/plain": [
       "Downloading:   0%|          | 0.00/565 [00:00<?, ?B/s]"
      ]
     },
     "metadata": {},
     "output_type": "display_data"
    },
    {
     "name": "stderr",
     "output_type": "stream",
     "text": [
      "c:\\Users\\PM\\anaconda3\\lib\\site-packages\\transformers\\utils\\hub.py:566: UserWarning: Using `from_pretrained` with the url of a file (here https://storage.googleapis.com/sgnlp/models/reccon_emotion_entailment/pytorch_model.bin) is deprecated and won't be possible anymore in v5 of Transformers. You should host your file on the Hub (hf.co) instead and use the repository ID. Note that this is not compatible with the caching system (your file will be downloaded at each execution) or multiple processes (each process will download the file in a different temporary file).\n",
      "  warnings.warn(\n"
     ]
    },
    {
     "data": {
      "application/vnd.jupyter.widget-view+json": {
       "model_id": "c91027c773944551afdd4283f829d48e",
       "version_major": 2,
       "version_minor": 0
      },
      "text/plain": [
       "Downloading:   0%|          | 0.00/501M [00:00<?, ?B/s]"
      ]
     },
     "metadata": {},
     "output_type": "display_data"
    },
    {
     "name": "stderr",
     "output_type": "stream",
     "text": [
      "Some weights of the model checkpoint at https://storage.googleapis.com/sgnlp/models/reccon_emotion_entailment/pytorch_model.bin were not used when initializing RecconEmotionEntailmentModel: ['roberta.pooler.dense.bias', 'roberta.pooler.dense.weight']\n",
      "- This IS expected if you are initializing RecconEmotionEntailmentModel from the checkpoint of a model trained on another task or with another architecture (e.g. initializing a BertForSequenceClassification model from a BertForPreTraining model).\n",
      "- This IS NOT expected if you are initializing RecconEmotionEntailmentModel from the checkpoint of a model that you expect to be exactly identical (initializing a BertForSequenceClassification model from a BertForSequenceClassification model).\n",
      "The tokenizer class you load from this checkpoint is not the same type as the class this function is called from. It may result in unexpected tokenization. \n",
      "The tokenizer class you load from this checkpoint is 'RobertaTokenizer'. \n",
      "The class this function is called from is 'RecconEmotionEntailmentTokenizer'.\n"
     ]
    }
   ],
   "source": [
    "from sgnlp.models.emotion_entailment import (\n",
    "    RecconEmotionEntailmentConfig,\n",
    "    RecconEmotionEntailmentModel,\n",
    "    RecconEmotionEntailmentTokenizer,\n",
    "    RecconEmotionEntailmentPreprocessor,\n",
    "    RecconEmotionEntailmentPostprocessor,\n",
    ")\n",
    "\n",
    "config = RecconEmotionEntailmentConfig.from_pretrained(\n",
    "    \"https://storage.googleapis.com/sgnlp/models/reccon_emotion_entailment/config.json\"\n",
    ")\n",
    "model = RecconEmotionEntailmentModel.from_pretrained(\n",
    "    \"https://storage.googleapis.com/sgnlp/models/reccon_emotion_entailment/pytorch_model.bin\",\n",
    "    config=config,\n",
    ")\n",
    "tokenizer = RecconEmotionEntailmentTokenizer.from_pretrained(\"roberta-base\")\n",
    "preprocessor = RecconEmotionEntailmentPreprocessor(tokenizer)\n",
    "postprocess = RecconEmotionEntailmentPostprocessor()\n",
    "\n",
    "\n"
   ]
  },
  {
   "cell_type": "code",
   "execution_count": 4,
   "metadata": {},
   "outputs": [
    {
     "ename": "KeyError",
     "evalue": "'evidence_utterance'",
     "output_type": "error",
     "traceback": [
      "\u001b[1;31m---------------------------------------------------------------------------\u001b[0m",
      "\u001b[1;31mKeyError\u001b[0m                                  Traceback (most recent call last)",
      "\u001b[1;32m<ipython-input-4-e5494c747407>\u001b[0m in \u001b[0;36m<module>\u001b[1;34m\u001b[0m\n\u001b[0;32m     13\u001b[0m \u001b[1;33m\u001b[0m\u001b[0m\n\u001b[0;32m     14\u001b[0m \u001b[1;31m# input_batch= {\"conversation_history\":[\"test1\", \"test2\"]}\u001b[0m\u001b[1;33m\u001b[0m\u001b[1;33m\u001b[0m\u001b[1;33m\u001b[0m\u001b[0m\n\u001b[1;32m---> 15\u001b[1;33m \u001b[0minput_dict\u001b[0m \u001b[1;33m=\u001b[0m \u001b[0mpreprocessor\u001b[0m\u001b[1;33m(\u001b[0m\u001b[0minput_batch\u001b[0m\u001b[1;33m)\u001b[0m\u001b[1;33m\u001b[0m\u001b[1;33m\u001b[0m\u001b[0m\n\u001b[0m\u001b[0;32m     16\u001b[0m \u001b[0mprint\u001b[0m\u001b[1;33m(\u001b[0m\u001b[0minput_dict\u001b[0m\u001b[1;33m)\u001b[0m\u001b[1;33m\u001b[0m\u001b[1;33m\u001b[0m\u001b[0m\n\u001b[0;32m     17\u001b[0m \u001b[0mraw_output\u001b[0m \u001b[1;33m=\u001b[0m \u001b[0mmodel\u001b[0m\u001b[1;33m(\u001b[0m\u001b[1;33m**\u001b[0m\u001b[0minput_dict\u001b[0m\u001b[1;33m)\u001b[0m\u001b[1;33m\u001b[0m\u001b[1;33m\u001b[0m\u001b[0m\n",
      "\u001b[1;32mc:\\Users\\PM\\anaconda3\\lib\\site-packages\\sgnlp\\models\\emotion_entailment\\preprocess.py\u001b[0m in \u001b[0;36m__call__\u001b[1;34m(self, data_batch)\u001b[0m\n\u001b[0;32m     42\u001b[0m \u001b[1;33m\u001b[0m\u001b[0m\n\u001b[0;32m     43\u001b[0m         \u001b[0mself\u001b[0m\u001b[1;33m.\u001b[0m\u001b[0m_check_values_len\u001b[0m\u001b[1;33m(\u001b[0m\u001b[0mdata_batch\u001b[0m\u001b[1;33m)\u001b[0m\u001b[1;33m\u001b[0m\u001b[1;33m\u001b[0m\u001b[0m\n\u001b[1;32m---> 44\u001b[1;33m         \u001b[0mconcatenated_batch\u001b[0m \u001b[1;33m=\u001b[0m \u001b[0mself\u001b[0m\u001b[1;33m.\u001b[0m\u001b[0m_concatenate_batch\u001b[0m\u001b[1;33m(\u001b[0m\u001b[0mdata_batch\u001b[0m\u001b[1;33m)\u001b[0m\u001b[1;33m\u001b[0m\u001b[1;33m\u001b[0m\u001b[0m\n\u001b[0m\u001b[0;32m     45\u001b[0m         output = self.tokenizer(\n\u001b[0;32m     46\u001b[0m             \u001b[0mconcatenated_batch\u001b[0m\u001b[1;33m,\u001b[0m\u001b[1;33m\u001b[0m\u001b[1;33m\u001b[0m\u001b[0m\n",
      "\u001b[1;32mc:\\Users\\PM\\anaconda3\\lib\\site-packages\\sgnlp\\models\\emotion_entailment\\preprocess.py\u001b[0m in \u001b[0;36m_concatenate_batch\u001b[1;34m(self, data_batch)\u001b[0m\n\u001b[0;32m     73\u001b[0m         \u001b[0memotion_batch\u001b[0m \u001b[1;33m=\u001b[0m \u001b[0mdata_batch\u001b[0m\u001b[1;33m[\u001b[0m\u001b[1;34m\"emotion\"\u001b[0m\u001b[1;33m]\u001b[0m\u001b[1;33m\u001b[0m\u001b[1;33m\u001b[0m\u001b[0m\n\u001b[0;32m     74\u001b[0m         \u001b[0mtarget_utterance_batch\u001b[0m \u001b[1;33m=\u001b[0m \u001b[0mdata_batch\u001b[0m\u001b[1;33m[\u001b[0m\u001b[1;34m\"target_utterance\"\u001b[0m\u001b[1;33m]\u001b[0m\u001b[1;33m\u001b[0m\u001b[1;33m\u001b[0m\u001b[0m\n\u001b[1;32m---> 75\u001b[1;33m         \u001b[0mevidence_utterance_batch\u001b[0m \u001b[1;33m=\u001b[0m \u001b[0mdata_batch\u001b[0m\u001b[1;33m[\u001b[0m\u001b[1;34m\"evidence_utterance\"\u001b[0m\u001b[1;33m]\u001b[0m\u001b[1;33m\u001b[0m\u001b[1;33m\u001b[0m\u001b[0m\n\u001b[0m\u001b[0;32m     76\u001b[0m         \u001b[0mconversation_history_batch\u001b[0m \u001b[1;33m=\u001b[0m \u001b[0mdata_batch\u001b[0m\u001b[1;33m[\u001b[0m\u001b[1;34m\"conversation_history\"\u001b[0m\u001b[1;33m]\u001b[0m\u001b[1;33m\u001b[0m\u001b[1;33m\u001b[0m\u001b[0m\n\u001b[0;32m     77\u001b[0m \u001b[1;33m\u001b[0m\u001b[0m\n",
      "\u001b[1;31mKeyError\u001b[0m: 'evidence_utterance'"
     ]
    }
   ],
   "source": [
    "input_batch = {\n",
    "    \"emotion\": [\"happiness\", \"Angry\"],\n",
    "    \"target_utterance\": [\"Thank you very much .\", \"hate\"],\n",
    "    # \"evidence_utterance\": [\n",
    "    #     \"How can I forget my old friend ?\",\n",
    "    #     \"My best wishes to you and the bride !\",\n",
    "    # ],\n",
    "    \"conversation_history\": [\n",
    "        \"It's very thoughtful of you to invite me to your wedding . How can I forget my old friend ? My best wishes to you and the bride ! Thank you very much .\",\n",
    "        \"I love you\",\n",
    "    ],\n",
    "}\n",
    "\n",
    "# input_batch= {\"conversation_history\":[\"test1\", \"test2\"]}\n",
    "input_dict = preprocessor(input_batch)\n",
    "print(input_dict)\n",
    "raw_output = model(**input_dict)\n",
    "print(raw_output)\n",
    "output = postprocess(raw_output)\n",
    "print(output)"
   ]
  }
 ],
 "metadata": {
  "kernelspec": {
   "display_name": "base",
   "language": "python",
   "name": "python3"
  },
  "language_info": {
   "codemirror_mode": {
    "name": "ipython",
    "version": 3
   },
   "file_extension": ".py",
   "mimetype": "text/x-python",
   "name": "python",
   "nbconvert_exporter": "python",
   "pygments_lexer": "ipython3",
   "version": "3.8.8 (default, Apr 13 2021, 15:08:03) [MSC v.1916 64 bit (AMD64)]"
  },
  "orig_nbformat": 4,
  "vscode": {
   "interpreter": {
    "hash": "17fa52af69b9cd78117a103b1756aacf5a43af0ea31a2cbd4544250b1aa1a259"
   }
  }
 },
 "nbformat": 4,
 "nbformat_minor": 2
}
